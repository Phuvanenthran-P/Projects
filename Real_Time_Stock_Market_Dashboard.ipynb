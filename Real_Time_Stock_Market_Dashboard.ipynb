{
  "nbformat": 4,
  "nbformat_minor": 0,
  "metadata": {
    "colab": {
      "provenance": [],
      "authorship_tag": "ABX9TyOKy46rc9ibH2BOEQdX88i3",
      "include_colab_link": true
    },
    "kernelspec": {
      "name": "python3",
      "display_name": "Python 3"
    },
    "language_info": {
      "name": "python"
    }
  },
  "cells": [
    {
      "cell_type": "markdown",
      "metadata": {
        "id": "view-in-github",
        "colab_type": "text"
      },
      "source": [
        "<a href=\"https://colab.research.google.com/github/Phuvanenthran-P/Projects/blob/main/Real_Time_Stock_Market_Dashboard.ipynb\" target=\"_parent\"><img src=\"https://colab.research.google.com/assets/colab-badge.svg\" alt=\"Open In Colab\"/></a>"
      ]
    },
    {
      "cell_type": "markdown",
      "source": [
        "# **Real-Time Stock Market Dashboard in Google Colab**"
      ],
      "metadata": {
        "id": "IR1KFxIzWzrG"
      }
    },
    {
      "cell_type": "markdown",
      "source": [
        "## **📌 Project Documentation**\n",
        "\n",
        "This document provides a comprehensive guide to the **Real-Time Stock Market Dashboard project**, showcasing its implementation, features, and usage."
      ],
      "metadata": {
        "id": "dIT6MVZFXNB4"
      }
    },
    {
      "cell_type": "markdown",
      "source": [
        "## **📖 Project Overview**\n",
        "\n",
        "The **Real-Time Stock Market Dashboard** is designed to:\n",
        "\n",
        "*  Fetch and visualize real-time stock data.\n",
        "\n",
        "*  Display interactive stock price charts with Simple Moving Average (SMA) and Exponential Moving Average (EMA).\n",
        "\n",
        "*  Continuously update stock prices in real time."
      ],
      "metadata": {
        "id": "nBzrQufSXoD1"
      }
    },
    {
      "cell_type": "markdown",
      "source": [
        "# **🛠️ Prerequisites**\n",
        "\n",
        "Before running the project, ensure you have:\n",
        "\n",
        "*  **Google Colab** (or any Jupyter notebook environment)\n",
        "\n",
        "*  **Internet Connection** (to fetch real-time stock data)"
      ],
      "metadata": {
        "id": "ZA2Skk1bX0rd"
      }
    },
    {
      "cell_type": "markdown",
      "source": [
        "# **🚀 Installation & Setup**\n",
        "\n",
        "## **1️⃣ Install Required Libraries**\n",
        "\n",
        "Run the following command in Google Colab:"
      ],
      "metadata": {
        "id": "gw7l8BX-fO_I"
      }
    },
    {
      "cell_type": "code",
      "source": [
        "!pip install yfinance plotly pandas"
      ],
      "metadata": {
        "id": "_TuxhuyGe9FM"
      },
      "execution_count": null,
      "outputs": []
    },
    {
      "cell_type": "markdown",
      "source": [
        "## **2️⃣ Import Dependencies**"
      ],
      "metadata": {
        "id": "zpFTt8CpfoPS"
      }
    },
    {
      "cell_type": "code",
      "source": [
        "import yfinance as yf\n",
        "import pandas as pd\n",
        "import plotly.graph_objects as go\n",
        "import time\n",
        "from IPython.display import display, clear_output"
      ],
      "metadata": {
        "id": "y5oCg8BLfxXc"
      },
      "execution_count": 2,
      "outputs": []
    },
    {
      "cell_type": "markdown",
      "source": [
        "## **3️⃣ User Input for Stock Ticker**"
      ],
      "metadata": {
        "id": "bzQV_rYAf6Tp"
      }
    },
    {
      "cell_type": "code",
      "source": [
        "stock_ticker = input(\"Enter Stock Ticker (e.g., AAPL, TSLA, MSFT): \").upper()"
      ],
      "metadata": {
        "colab": {
          "base_uri": "https://localhost:8080/"
        },
        "id": "6VXZ2fPvf9dA",
        "outputId": "25c2644c-12e6-4742-ad6c-ef79c89dc518"
      },
      "execution_count": 3,
      "outputs": [
        {
          "name": "stdout",
          "output_type": "stream",
          "text": [
            "Enter Stock Ticker (e.g., AAPL, TSLA, MSFT): MSFT\n"
          ]
        }
      ]
    },
    {
      "cell_type": "markdown",
      "source": [
        "# **📊 Data Fetching & Visualization**\n",
        "\n",
        "## **Fetching Stock Data & Plotting**"
      ],
      "metadata": {
        "id": "w39kYvnMgMRB"
      }
    },
    {
      "cell_type": "code",
      "source": [
        "def fetch_stock_data(stock_symbol, sma_period=5, ema_period=10):\n",
        "    stock = yf.Ticker(stock_symbol)\n",
        "    stock_hist = stock.history(period=\"30d\")  # Last 30 days\n",
        "\n",
        "    if stock_hist.empty:\n",
        "        print(f\"⚠️ No data found for {stock_symbol}. Check the ticker symbol.\")\n",
        "        return\n",
        "\n",
        "    # Calculate Moving Averages\n",
        "    stock_hist['SMA'] = stock_hist['Close'].rolling(window=sma_period).mean()\n",
        "    stock_hist['EMA'] = stock_hist['Close'].ewm(span=ema_period, adjust=False).mean()\n",
        "\n",
        "    # Create interactive Plotly chart\n",
        "    fig = go.Figure()\n",
        "    fig.add_trace(go.Scatter(x=stock_hist.index, y=stock_hist['Close'], mode='lines+markers', name='Close Price'))\n",
        "    fig.add_trace(go.Scatter(x=stock_hist.index, y=stock_hist['SMA'], mode='lines', name='SMA (5 Days)', line=dict(color='orange')))\n",
        "    fig.add_trace(go.Scatter(x=stock_hist.index, y=stock_hist['EMA'], mode='lines', name='EMA (10 Days)', line=dict(color='green')))\n",
        "\n",
        "    fig.update_layout(\n",
        "        title=f\"{stock_symbol} Stock Price with Moving Averages\",\n",
        "        xaxis_title=\"Date\",\n",
        "        yaxis_title=\"Price ($)\",\n",
        "        template=\"plotly_dark\"\n",
        "    )\n",
        "\n",
        "    fig.show()"
      ],
      "metadata": {
        "id": "NKwpAuqSgX1f"
      },
      "execution_count": 4,
      "outputs": []
    },
    {
      "cell_type": "markdown",
      "source": [
        "# **🔄 Real-Time Updates**\n",
        "\n",
        "## **Live Stock Price Update Function**"
      ],
      "metadata": {
        "id": "AqM_M-zvgjRz"
      }
    },
    {
      "cell_type": "code",
      "source": [
        "def live_stock_update(stock_symbol, refresh_time=5, iterations=10):\n",
        "    for i in range(iterations):\n",
        "        stock = yf.Ticker(stock_symbol)\n",
        "        stock_price = stock.history(period=\"1d\")['Close']\n",
        "\n",
        "        if stock_price.empty:\n",
        "            print(f\"⚠️ No data found for {stock_symbol}. Check the ticker symbol.\")\n",
        "            break\n",
        "\n",
        "        latest_price = stock_price.iloc[-1]\n",
        "        clear_output(wait=True)\n",
        "        print(f\"Latest {stock_symbol} Stock Price: ${latest_price:.2f}\")\n",
        "\n",
        "        fetch_stock_data(stock_symbol)\n",
        "        time.sleep(refresh_time)"
      ],
      "metadata": {
        "id": "MypUWT7ygtFD"
      },
      "execution_count": 5,
      "outputs": []
    },
    {
      "cell_type": "markdown",
      "source": [
        "## **Running the Live Update**"
      ],
      "metadata": {
        "id": "0QsHiajFgxRz"
      }
    },
    {
      "cell_type": "code",
      "source": [
        "live_stock_update(stock_ticker, refresh_time=2, iterations=5)"
      ],
      "metadata": {
        "colab": {
          "base_uri": "https://localhost:8080/",
          "height": 559
        },
        "id": "v1-3bOavg37f",
        "outputId": "eb242580-db28-4db7-b134-a25155816e0e"
      },
      "execution_count": 6,
      "outputs": [
        {
          "output_type": "stream",
          "name": "stdout",
          "text": [
            "Latest MSFT Stock Price: $447.20\n"
          ]
        },
        {
          "output_type": "display_data",
          "data": {
            "text/html": [
              "<html>\n",
              "<head><meta charset=\"utf-8\" /></head>\n",
              "<body>\n",
              "    <div>            <script src=\"https://cdnjs.cloudflare.com/ajax/libs/mathjax/2.7.5/MathJax.js?config=TeX-AMS-MML_SVG\"></script><script type=\"text/javascript\">if (window.MathJax && window.MathJax.Hub && window.MathJax.Hub.Config) {window.MathJax.Hub.Config({SVG: {font: \"STIX-Web\"}});}</script>                <script type=\"text/javascript\">window.PlotlyConfig = {MathJaxConfig: 'local'};</script>\n",
              "        <script charset=\"utf-8\" src=\"https://cdn.plot.ly/plotly-2.35.2.min.js\"></script>                <div id=\"84849c0c-9426-47a1-8179-ccb99a2c15af\" class=\"plotly-graph-div\" style=\"height:525px; width:100%;\"></div>            <script type=\"text/javascript\">                                    window.PLOTLYENV=window.PLOTLYENV || {};                                    if (document.getElementById(\"84849c0c-9426-47a1-8179-ccb99a2c15af\")) {                    Plotly.newPlot(                        \"84849c0c-9426-47a1-8179-ccb99a2c15af\",                        [{\"mode\":\"lines+markers\",\"name\":\"Close Price\",\"x\":[\"2024-12-12T00:00:00-05:00\",\"2024-12-13T00:00:00-05:00\",\"2024-12-16T00:00:00-05:00\",\"2024-12-17T00:00:00-05:00\",\"2024-12-18T00:00:00-05:00\",\"2024-12-19T00:00:00-05:00\",\"2024-12-20T00:00:00-05:00\",\"2024-12-23T00:00:00-05:00\",\"2024-12-24T00:00:00-05:00\",\"2024-12-26T00:00:00-05:00\",\"2024-12-27T00:00:00-05:00\",\"2024-12-30T00:00:00-05:00\",\"2024-12-31T00:00:00-05:00\",\"2025-01-02T00:00:00-05:00\",\"2025-01-03T00:00:00-05:00\",\"2025-01-06T00:00:00-05:00\",\"2025-01-07T00:00:00-05:00\",\"2025-01-08T00:00:00-05:00\",\"2025-01-10T00:00:00-05:00\",\"2025-01-13T00:00:00-05:00\",\"2025-01-14T00:00:00-05:00\",\"2025-01-15T00:00:00-05:00\",\"2025-01-16T00:00:00-05:00\",\"2025-01-17T00:00:00-05:00\",\"2025-01-21T00:00:00-05:00\",\"2025-01-22T00:00:00-05:00\",\"2025-01-23T00:00:00-05:00\",\"2025-01-24T00:00:00-05:00\",\"2025-01-27T00:00:00-05:00\",\"2025-01-28T00:00:00-05:00\"],\"y\":[449.55999755859375,447.2699890136719,451.5899963378906,454.4599914550781,437.3900146484375,437.0299987792969,436.6000061035156,435.25,439.3299865722656,438.1099853515625,430.5299987792969,424.8299865722656,421.5,418.5799865722656,423.3500061035156,427.8500061035156,422.3699951171875,424.55999755859375,418.95001220703125,417.19000244140625,415.6700134277344,426.30999755859375,424.5799865722656,429.0299987792969,428.5,446.20001220703125,446.7099914550781,444.05999755859375,434.55999755859375,447.20001220703125],\"type\":\"scatter\"},{\"line\":{\"color\":\"orange\"},\"mode\":\"lines\",\"name\":\"SMA (5 Days)\",\"x\":[\"2024-12-12T00:00:00-05:00\",\"2024-12-13T00:00:00-05:00\",\"2024-12-16T00:00:00-05:00\",\"2024-12-17T00:00:00-05:00\",\"2024-12-18T00:00:00-05:00\",\"2024-12-19T00:00:00-05:00\",\"2024-12-20T00:00:00-05:00\",\"2024-12-23T00:00:00-05:00\",\"2024-12-24T00:00:00-05:00\",\"2024-12-26T00:00:00-05:00\",\"2024-12-27T00:00:00-05:00\",\"2024-12-30T00:00:00-05:00\",\"2024-12-31T00:00:00-05:00\",\"2025-01-02T00:00:00-05:00\",\"2025-01-03T00:00:00-05:00\",\"2025-01-06T00:00:00-05:00\",\"2025-01-07T00:00:00-05:00\",\"2025-01-08T00:00:00-05:00\",\"2025-01-10T00:00:00-05:00\",\"2025-01-13T00:00:00-05:00\",\"2025-01-14T00:00:00-05:00\",\"2025-01-15T00:00:00-05:00\",\"2025-01-16T00:00:00-05:00\",\"2025-01-17T00:00:00-05:00\",\"2025-01-21T00:00:00-05:00\",\"2025-01-22T00:00:00-05:00\",\"2025-01-23T00:00:00-05:00\",\"2025-01-24T00:00:00-05:00\",\"2025-01-27T00:00:00-05:00\",\"2025-01-28T00:00:00-05:00\"],\"y\":[null,null,null,null,448.0539978027344,445.547998046875,443.41400146484375,440.1460021972656,437.1200012207031,437.2639953613281,435.9639953613281,433.6099914550781,430.8599914550781,426.7099914550781,423.75799560546875,423.2219970703125,422.72999877929686,423.3419982910156,423.41600341796874,422.1840026855469,419.7480041503906,420.5360046386719,420.5400024414063,422.5559997558594,424.8179992675781,430.9239990234375,435.0039978027344,438.9,440.00599975585936,443.7460021972656],\"type\":\"scatter\"},{\"line\":{\"color\":\"green\"},\"mode\":\"lines\",\"name\":\"EMA (10 Days)\",\"x\":[\"2024-12-12T00:00:00-05:00\",\"2024-12-13T00:00:00-05:00\",\"2024-12-16T00:00:00-05:00\",\"2024-12-17T00:00:00-05:00\",\"2024-12-18T00:00:00-05:00\",\"2024-12-19T00:00:00-05:00\",\"2024-12-20T00:00:00-05:00\",\"2024-12-23T00:00:00-05:00\",\"2024-12-24T00:00:00-05:00\",\"2024-12-26T00:00:00-05:00\",\"2024-12-27T00:00:00-05:00\",\"2024-12-30T00:00:00-05:00\",\"2024-12-31T00:00:00-05:00\",\"2025-01-02T00:00:00-05:00\",\"2025-01-03T00:00:00-05:00\",\"2025-01-06T00:00:00-05:00\",\"2025-01-07T00:00:00-05:00\",\"2025-01-08T00:00:00-05:00\",\"2025-01-10T00:00:00-05:00\",\"2025-01-13T00:00:00-05:00\",\"2025-01-14T00:00:00-05:00\",\"2025-01-15T00:00:00-05:00\",\"2025-01-16T00:00:00-05:00\",\"2025-01-17T00:00:00-05:00\",\"2025-01-21T00:00:00-05:00\",\"2025-01-22T00:00:00-05:00\",\"2025-01-23T00:00:00-05:00\",\"2025-01-24T00:00:00-05:00\",\"2025-01-27T00:00:00-05:00\",\"2025-01-28T00:00:00-05:00\"],\"y\":[449.55999755859375,449.14363236860794,449.58842581756835,450.4741650243883,448.09522859239723,446.08336862637896,444.3591208949492,442.7029170958675,442.08965700066716,441.3660803371936,439.39588369030326,436.74753875975097,433.9752589852508,431.1761185465262,429.75318901143334,429.40715575544823,428.12767200303716,427.47900392222925,425.9282781558296,424.3395007532072,422.7632303303939,423.40809709915754,423.6211679124499,424.60459170642207,425.31284775979987,429.1105140229328,432.3104190105955,434.4467060193225,434.46730448100817,436.782342249376],\"type\":\"scatter\"}],                        {\"template\":{\"data\":{\"barpolar\":[{\"marker\":{\"line\":{\"color\":\"rgb(17,17,17)\",\"width\":0.5},\"pattern\":{\"fillmode\":\"overlay\",\"size\":10,\"solidity\":0.2}},\"type\":\"barpolar\"}],\"bar\":[{\"error_x\":{\"color\":\"#f2f5fa\"},\"error_y\":{\"color\":\"#f2f5fa\"},\"marker\":{\"line\":{\"color\":\"rgb(17,17,17)\",\"width\":0.5},\"pattern\":{\"fillmode\":\"overlay\",\"size\":10,\"solidity\":0.2}},\"type\":\"bar\"}],\"carpet\":[{\"aaxis\":{\"endlinecolor\":\"#A2B1C6\",\"gridcolor\":\"#506784\",\"linecolor\":\"#506784\",\"minorgridcolor\":\"#506784\",\"startlinecolor\":\"#A2B1C6\"},\"baxis\":{\"endlinecolor\":\"#A2B1C6\",\"gridcolor\":\"#506784\",\"linecolor\":\"#506784\",\"minorgridcolor\":\"#506784\",\"startlinecolor\":\"#A2B1C6\"},\"type\":\"carpet\"}],\"choropleth\":[{\"colorbar\":{\"outlinewidth\":0,\"ticks\":\"\"},\"type\":\"choropleth\"}],\"contourcarpet\":[{\"colorbar\":{\"outlinewidth\":0,\"ticks\":\"\"},\"type\":\"contourcarpet\"}],\"contour\":[{\"colorbar\":{\"outlinewidth\":0,\"ticks\":\"\"},\"colorscale\":[[0.0,\"#0d0887\"],[0.1111111111111111,\"#46039f\"],[0.2222222222222222,\"#7201a8\"],[0.3333333333333333,\"#9c179e\"],[0.4444444444444444,\"#bd3786\"],[0.5555555555555556,\"#d8576b\"],[0.6666666666666666,\"#ed7953\"],[0.7777777777777778,\"#fb9f3a\"],[0.8888888888888888,\"#fdca26\"],[1.0,\"#f0f921\"]],\"type\":\"contour\"}],\"heatmapgl\":[{\"colorbar\":{\"outlinewidth\":0,\"ticks\":\"\"},\"colorscale\":[[0.0,\"#0d0887\"],[0.1111111111111111,\"#46039f\"],[0.2222222222222222,\"#7201a8\"],[0.3333333333333333,\"#9c179e\"],[0.4444444444444444,\"#bd3786\"],[0.5555555555555556,\"#d8576b\"],[0.6666666666666666,\"#ed7953\"],[0.7777777777777778,\"#fb9f3a\"],[0.8888888888888888,\"#fdca26\"],[1.0,\"#f0f921\"]],\"type\":\"heatmapgl\"}],\"heatmap\":[{\"colorbar\":{\"outlinewidth\":0,\"ticks\":\"\"},\"colorscale\":[[0.0,\"#0d0887\"],[0.1111111111111111,\"#46039f\"],[0.2222222222222222,\"#7201a8\"],[0.3333333333333333,\"#9c179e\"],[0.4444444444444444,\"#bd3786\"],[0.5555555555555556,\"#d8576b\"],[0.6666666666666666,\"#ed7953\"],[0.7777777777777778,\"#fb9f3a\"],[0.8888888888888888,\"#fdca26\"],[1.0,\"#f0f921\"]],\"type\":\"heatmap\"}],\"histogram2dcontour\":[{\"colorbar\":{\"outlinewidth\":0,\"ticks\":\"\"},\"colorscale\":[[0.0,\"#0d0887\"],[0.1111111111111111,\"#46039f\"],[0.2222222222222222,\"#7201a8\"],[0.3333333333333333,\"#9c179e\"],[0.4444444444444444,\"#bd3786\"],[0.5555555555555556,\"#d8576b\"],[0.6666666666666666,\"#ed7953\"],[0.7777777777777778,\"#fb9f3a\"],[0.8888888888888888,\"#fdca26\"],[1.0,\"#f0f921\"]],\"type\":\"histogram2dcontour\"}],\"histogram2d\":[{\"colorbar\":{\"outlinewidth\":0,\"ticks\":\"\"},\"colorscale\":[[0.0,\"#0d0887\"],[0.1111111111111111,\"#46039f\"],[0.2222222222222222,\"#7201a8\"],[0.3333333333333333,\"#9c179e\"],[0.4444444444444444,\"#bd3786\"],[0.5555555555555556,\"#d8576b\"],[0.6666666666666666,\"#ed7953\"],[0.7777777777777778,\"#fb9f3a\"],[0.8888888888888888,\"#fdca26\"],[1.0,\"#f0f921\"]],\"type\":\"histogram2d\"}],\"histogram\":[{\"marker\":{\"pattern\":{\"fillmode\":\"overlay\",\"size\":10,\"solidity\":0.2}},\"type\":\"histogram\"}],\"mesh3d\":[{\"colorbar\":{\"outlinewidth\":0,\"ticks\":\"\"},\"type\":\"mesh3d\"}],\"parcoords\":[{\"line\":{\"colorbar\":{\"outlinewidth\":0,\"ticks\":\"\"}},\"type\":\"parcoords\"}],\"pie\":[{\"automargin\":true,\"type\":\"pie\"}],\"scatter3d\":[{\"line\":{\"colorbar\":{\"outlinewidth\":0,\"ticks\":\"\"}},\"marker\":{\"colorbar\":{\"outlinewidth\":0,\"ticks\":\"\"}},\"type\":\"scatter3d\"}],\"scattercarpet\":[{\"marker\":{\"colorbar\":{\"outlinewidth\":0,\"ticks\":\"\"}},\"type\":\"scattercarpet\"}],\"scattergeo\":[{\"marker\":{\"colorbar\":{\"outlinewidth\":0,\"ticks\":\"\"}},\"type\":\"scattergeo\"}],\"scattergl\":[{\"marker\":{\"line\":{\"color\":\"#283442\"}},\"type\":\"scattergl\"}],\"scattermapbox\":[{\"marker\":{\"colorbar\":{\"outlinewidth\":0,\"ticks\":\"\"}},\"type\":\"scattermapbox\"}],\"scatterpolargl\":[{\"marker\":{\"colorbar\":{\"outlinewidth\":0,\"ticks\":\"\"}},\"type\":\"scatterpolargl\"}],\"scatterpolar\":[{\"marker\":{\"colorbar\":{\"outlinewidth\":0,\"ticks\":\"\"}},\"type\":\"scatterpolar\"}],\"scatter\":[{\"marker\":{\"line\":{\"color\":\"#283442\"}},\"type\":\"scatter\"}],\"scatterternary\":[{\"marker\":{\"colorbar\":{\"outlinewidth\":0,\"ticks\":\"\"}},\"type\":\"scatterternary\"}],\"surface\":[{\"colorbar\":{\"outlinewidth\":0,\"ticks\":\"\"},\"colorscale\":[[0.0,\"#0d0887\"],[0.1111111111111111,\"#46039f\"],[0.2222222222222222,\"#7201a8\"],[0.3333333333333333,\"#9c179e\"],[0.4444444444444444,\"#bd3786\"],[0.5555555555555556,\"#d8576b\"],[0.6666666666666666,\"#ed7953\"],[0.7777777777777778,\"#fb9f3a\"],[0.8888888888888888,\"#fdca26\"],[1.0,\"#f0f921\"]],\"type\":\"surface\"}],\"table\":[{\"cells\":{\"fill\":{\"color\":\"#506784\"},\"line\":{\"color\":\"rgb(17,17,17)\"}},\"header\":{\"fill\":{\"color\":\"#2a3f5f\"},\"line\":{\"color\":\"rgb(17,17,17)\"}},\"type\":\"table\"}]},\"layout\":{\"annotationdefaults\":{\"arrowcolor\":\"#f2f5fa\",\"arrowhead\":0,\"arrowwidth\":1},\"autotypenumbers\":\"strict\",\"coloraxis\":{\"colorbar\":{\"outlinewidth\":0,\"ticks\":\"\"}},\"colorscale\":{\"diverging\":[[0,\"#8e0152\"],[0.1,\"#c51b7d\"],[0.2,\"#de77ae\"],[0.3,\"#f1b6da\"],[0.4,\"#fde0ef\"],[0.5,\"#f7f7f7\"],[0.6,\"#e6f5d0\"],[0.7,\"#b8e186\"],[0.8,\"#7fbc41\"],[0.9,\"#4d9221\"],[1,\"#276419\"]],\"sequential\":[[0.0,\"#0d0887\"],[0.1111111111111111,\"#46039f\"],[0.2222222222222222,\"#7201a8\"],[0.3333333333333333,\"#9c179e\"],[0.4444444444444444,\"#bd3786\"],[0.5555555555555556,\"#d8576b\"],[0.6666666666666666,\"#ed7953\"],[0.7777777777777778,\"#fb9f3a\"],[0.8888888888888888,\"#fdca26\"],[1.0,\"#f0f921\"]],\"sequentialminus\":[[0.0,\"#0d0887\"],[0.1111111111111111,\"#46039f\"],[0.2222222222222222,\"#7201a8\"],[0.3333333333333333,\"#9c179e\"],[0.4444444444444444,\"#bd3786\"],[0.5555555555555556,\"#d8576b\"],[0.6666666666666666,\"#ed7953\"],[0.7777777777777778,\"#fb9f3a\"],[0.8888888888888888,\"#fdca26\"],[1.0,\"#f0f921\"]]},\"colorway\":[\"#636efa\",\"#EF553B\",\"#00cc96\",\"#ab63fa\",\"#FFA15A\",\"#19d3f3\",\"#FF6692\",\"#B6E880\",\"#FF97FF\",\"#FECB52\"],\"font\":{\"color\":\"#f2f5fa\"},\"geo\":{\"bgcolor\":\"rgb(17,17,17)\",\"lakecolor\":\"rgb(17,17,17)\",\"landcolor\":\"rgb(17,17,17)\",\"showlakes\":true,\"showland\":true,\"subunitcolor\":\"#506784\"},\"hoverlabel\":{\"align\":\"left\"},\"hovermode\":\"closest\",\"mapbox\":{\"style\":\"dark\"},\"paper_bgcolor\":\"rgb(17,17,17)\",\"plot_bgcolor\":\"rgb(17,17,17)\",\"polar\":{\"angularaxis\":{\"gridcolor\":\"#506784\",\"linecolor\":\"#506784\",\"ticks\":\"\"},\"bgcolor\":\"rgb(17,17,17)\",\"radialaxis\":{\"gridcolor\":\"#506784\",\"linecolor\":\"#506784\",\"ticks\":\"\"}},\"scene\":{\"xaxis\":{\"backgroundcolor\":\"rgb(17,17,17)\",\"gridcolor\":\"#506784\",\"gridwidth\":2,\"linecolor\":\"#506784\",\"showbackground\":true,\"ticks\":\"\",\"zerolinecolor\":\"#C8D4E3\"},\"yaxis\":{\"backgroundcolor\":\"rgb(17,17,17)\",\"gridcolor\":\"#506784\",\"gridwidth\":2,\"linecolor\":\"#506784\",\"showbackground\":true,\"ticks\":\"\",\"zerolinecolor\":\"#C8D4E3\"},\"zaxis\":{\"backgroundcolor\":\"rgb(17,17,17)\",\"gridcolor\":\"#506784\",\"gridwidth\":2,\"linecolor\":\"#506784\",\"showbackground\":true,\"ticks\":\"\",\"zerolinecolor\":\"#C8D4E3\"}},\"shapedefaults\":{\"line\":{\"color\":\"#f2f5fa\"}},\"sliderdefaults\":{\"bgcolor\":\"#C8D4E3\",\"bordercolor\":\"rgb(17,17,17)\",\"borderwidth\":1,\"tickwidth\":0},\"ternary\":{\"aaxis\":{\"gridcolor\":\"#506784\",\"linecolor\":\"#506784\",\"ticks\":\"\"},\"baxis\":{\"gridcolor\":\"#506784\",\"linecolor\":\"#506784\",\"ticks\":\"\"},\"bgcolor\":\"rgb(17,17,17)\",\"caxis\":{\"gridcolor\":\"#506784\",\"linecolor\":\"#506784\",\"ticks\":\"\"}},\"title\":{\"x\":0.05},\"updatemenudefaults\":{\"bgcolor\":\"#506784\",\"borderwidth\":0},\"xaxis\":{\"automargin\":true,\"gridcolor\":\"#283442\",\"linecolor\":\"#506784\",\"ticks\":\"\",\"title\":{\"standoff\":15},\"zerolinecolor\":\"#283442\",\"zerolinewidth\":2},\"yaxis\":{\"automargin\":true,\"gridcolor\":\"#283442\",\"linecolor\":\"#506784\",\"ticks\":\"\",\"title\":{\"standoff\":15},\"zerolinecolor\":\"#283442\",\"zerolinewidth\":2}}},\"title\":{\"text\":\"MSFT Stock Price with Moving Averages\"},\"xaxis\":{\"title\":{\"text\":\"Date\"}},\"yaxis\":{\"title\":{\"text\":\"Price ($)\"}}},                        {\"responsive\": true}                    ).then(function(){\n",
              "                            \n",
              "var gd = document.getElementById('84849c0c-9426-47a1-8179-ccb99a2c15af');\n",
              "var x = new MutationObserver(function (mutations, observer) {{\n",
              "        var display = window.getComputedStyle(gd).display;\n",
              "        if (!display || display === 'none') {{\n",
              "            console.log([gd, 'removed!']);\n",
              "            Plotly.purge(gd);\n",
              "            observer.disconnect();\n",
              "        }}\n",
              "}});\n",
              "\n",
              "// Listen for the removal of the full notebook cells\n",
              "var notebookContainer = gd.closest('#notebook-container');\n",
              "if (notebookContainer) {{\n",
              "    x.observe(notebookContainer, {childList: true});\n",
              "}}\n",
              "\n",
              "// Listen for the clearing of the current output cell\n",
              "var outputEl = gd.closest('.output');\n",
              "if (outputEl) {{\n",
              "    x.observe(outputEl, {childList: true});\n",
              "}}\n",
              "\n",
              "                        })                };                            </script>        </div>\n",
              "</body>\n",
              "</html>"
            ]
          },
          "metadata": {}
        }
      ]
    },
    {
      "cell_type": "markdown",
      "source": [
        "# **🔧 Features**\n",
        "\n",
        "**✅ Live Stock Price Updates**: Stock prices update in real time.\n",
        "\n",
        "**✅ Interactive Graphs**: Visualize stock trends with SMA and EMA indicators.\n",
        "\n",
        "**✅ Real-Time Data Processing**: Uses Yahoo Finance for accurate, live stock data."
      ],
      "metadata": {
        "id": "DfqZJHq5hMFn"
      }
    },
    {
      "cell_type": "markdown",
      "source": [
        "# **📑 Conclusion**\n",
        "\n",
        "This project serves as an excellent tool for tracking real-time stock price movements and analyzing trends. It effectively demonstrates real-time data handling, visualization, and automation."
      ],
      "metadata": {
        "id": "4tSOVdevhYyt"
      }
    },
    {
      "cell_type": "markdown",
      "source": [
        "# **🚀 Future Enhancements**\n",
        "\n",
        "* **Stock price forecasting using machine learning**\n",
        "\n",
        "* **Additional indicators like MACD, RSI, Bollinger Bands**\n",
        "\n",
        "* **Multi-stock comparison dashboard**"
      ],
      "metadata": {
        "id": "ypQRfZFYhfPM"
      }
    }
  ]
}